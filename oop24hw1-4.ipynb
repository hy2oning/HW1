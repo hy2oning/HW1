{
 "cells": [
  {
   "cell_type": "markdown",
   "id": "49b2bb3f-8a94-4aba-bf67-6b97d86c0047",
   "metadata": {},
   "source": [
    "# OOP (2024 Fall) HW1: 불변 순서쌍을 활용해 가변 순서쌍 만들기 \n",
    "- 이름: 김현중\n",
    "- 학번: 20202581\n",
    "\n",
    "여기 홍길동, 99999999 대신 본인의 이름, 학번 작성"
   ]
  },
  {
   "cell_type": "markdown",
   "id": "9c3c24aa-19ac-4c88-a228-0d1686034a24",
   "metadata": {},
   "source": [
    "-----\n",
    "## Part A: 불변 순서쌍 Pair\n",
    "1. 클래스(또는 정적) 팩토리 메소드 `of`를 를 수정하여 완성하라.\n",
    "    - https://velog.io/@cjh8746/%EC%A0%95%EC%A0%81-%ED%8C%A9%ED%86%A0%EB%A6%AC-%EB%A9%94%EC%84%9C%EB%93%9CStatic-Factory-Method\n",
    "1. 주석 부분을 풀어 제너릭 클래스인 `Pair`가 제너릭 인터페이스 `Comparable`를 구현하도록 완성하라.\n",
    "    - https://docs.oracle.com/en/java/javase/22/docs/api/java.base/java/lang/Comparable.html"
   ]
  },
  {
   "cell_type": "code",
   "execution_count": 17,
   "id": "f2b4bcb7-9d9c-494a-9762-ca0700c6f762",
   "metadata": {},
   "outputs": [],
   "source": [
    "record Pair<F extends Comparable<F>, S extends Comparable<S>>(F first, S second) implements Comparable<Pair<F, S>> {\n",
    "    \n",
    "    public static <F extends Comparable<F>, S extends Comparable<S>> Pair<F, S> of(F first, S second) {\n",
    "        return new Pair<>(first, second);\n",
    "    }\n",
    "\n",
    "    @Override\n",
    "    public int compareTo(Pair<F, S> o) {\n",
    "        int result = first.compareTo(o.first());\n",
    "        if (result == 0) {\n",
    "            return second.compareTo(o.second());\n",
    "        }\n",
    "        return result;\n",
    "    }\n",
    "    \n",
    "}\n"
   ]
  },
  {
   "cell_type": "code",
   "execution_count": 18,
   "id": "5fb5b2ac-4ac0-40cc-9f87-1675177e4baa",
   "metadata": {},
   "outputs": [
    {
     "name": "stdout",
     "output_type": "stream",
     "text": [
      "-1\n",
      "1\n",
      "-6\n",
      "0\n"
     ]
    }
   ],
   "source": [
    "// 테스트 코드\n",
    "Pair<Integer, String> pair1 = Pair.of(1, \"apple\");\n",
    "Pair<Integer, String> pair2 = Pair.of(2, \"banana\");\n",
    "Pair<Integer, String> pair3 = Pair.of(1, \"grape\");\n",
    "Pair<Integer, String> pair4 = Pair.of(1, \"apple\");\n",
    "\n",
    "// 비교 결과 출력\n",
    "System.out.println(pair1.compareTo(pair2)); // 왼쪽이 더 작을 경우\n",
    "System.out.println(pair2.compareTo(pair1)); // 왼쪽이 더 클 경우\n",
    "System.out.println(pair1.compareTo(pair3)); // 같은 첫 번째 값이지만 두 번째 값 비교\n",
    "System.out.println(pair1.compareTo(pair4)); // 같은 Pair 비교"
   ]
  },
  {
   "cell_type": "markdown",
   "id": "e2774a64-250e-4e89-a536-5a8ed42bb4ce",
   "metadata": {},
   "source": [
    "------\n",
    "## Part B: 가변 순서쌍 ModifiablePair\n",
    "\n",
    "불변 순서쌍만을 priviate 필드로 갖고 있는 가변 순서쌍 제너릭 클래스를 작성하라\n",
    "\n",
    "가변 순서쌍은 불변 순서쌍과 마찬가지 이름의 getter 메소드가 있고 추가로 setter 메소드도 있다.\n",
    "\n",
    "또, 가변 순서쌍도 불변 순서쌍과 마찬가지로 Comparable 제너릭 인터페이스를 구현하라.\n"
   ]
  },
  {
   "cell_type": "code",
   "execution_count": 19,
   "id": "38eb649f-d95e-40d8-a33b-658df4ee4a7f",
   "metadata": {},
   "outputs": [],
   "source": [
    "class ModifiablePair<F extends Comparable<F>, S extends Comparable<S>> implements Comparable<ModifiablePair<F, S>> {\n",
    "    private Pair<F, S> pair;\n",
    "\n",
    "    // 생성자: Pair를 초기화\n",
    "    ModifiablePair(F first, S second) {\n",
    "        this.pair = Pair.of(first, second);\n",
    "    }\n",
    "    \n",
    "    // getter: pair에게 위임\n",
    "    public F first() {\n",
    "        return pair.first();\n",
    "    }\n",
    "    \n",
    "    public S second() {\n",
    "        return pair.second();\n",
    "    }\n",
    "    \n",
    "    // setter: 새로운 Pair를 생성\n",
    "    public void setFirst(F first) {\n",
    "        this.pair = Pair.of(first, this.second());\n",
    "    }\n",
    "    \n",
    "    public void setSecond(S second) {\n",
    "        this.pair = Pair.of(this.first(), second);\n",
    "    }\n",
    "\n",
    "    // compareTo: pair에게 위임\n",
    "    @Override\n",
    "    public int compareTo(ModifiablePair<F, S> o) {\n",
    "        return pair.compareTo(o.pair);\n",
    "    }\n",
    "\n",
    "    @Override\n",
    "    public String toString() { \n",
    "        return pair.toString(); // toString은 pair에게 위임\n",
    "    }\n",
    "}\n"
   ]
  },
  {
   "cell_type": "code",
   "execution_count": 20,
   "id": "57af3b33-b9db-43bd-a8e7-5b35d97aaf5e",
   "metadata": {},
   "outputs": [
    {
     "name": "stdout",
     "output_type": "stream",
     "text": [
      "Initial Values:\n",
      "First: 1\n",
      "Second: apple\n",
      "\n",
      "After setFirst(2):\n",
      "First: 2\n",
      "Second: apple\n",
      "\n",
      "After setSecond(\"banana\"):\n",
      "First: 2\n",
      "Second: banana\n"
     ]
    }
   ],
   "source": [
    "// ModifiablePair를 테스트하는 코드\n",
    "ModifiablePair<Integer, String> modPair = new ModifiablePair<>(1, \"apple\");\n",
    "\n",
    "// 초기 값 확인\n",
    "System.out.println(\"Initial Values:\");\n",
    "System.out.println(\"First: \" + modPair.first()); // 1, first() 메소드\n",
    "System.out.println(\"Second: \" + modPair.second()); // \"apple\", second() 메소드\n",
    "\n",
    "// 첫 번째 값 변경\n",
    "modPair.setFirst(2); //setFirst(F) 메소드\n",
    "System.out.println(\"\\nAfter setFirst(2):\");\n",
    "System.out.println(\"First: \" + modPair.first()); // 2\n",
    "System.out.println(\"Second: \" + modPair.second()); // \"apple\"\n",
    "\n",
    "// 두 번째 값 변경\n",
    "modPair.setSecond(\"banana\"); //setSecond(S) 메소드\n",
    "System.out.println(\"\\nAfter setSecond(\\\"banana\\\"):\");\n",
    "System.out.println(\"First: \" + modPair.first()); // 2\n",
    "System.out.println(\"Second: \" + modPair.second()); // \"banana\"\n"
   ]
  },
  {
   "cell_type": "code",
   "execution_count": 21,
   "id": "e0b9e66e-d3fa-4485-b6f6-4075eca8fcf3",
   "metadata": {},
   "outputs": [
    {
     "name": "stdout",
     "output_type": "stream",
     "text": [
      "-1\n",
      "1\n",
      "-6\n",
      "0\n"
     ]
    }
   ],
   "source": [
    "/* 가변 순써상에 대해서도\n",
    "  compareTo 가 잘 동작하는지\n",
    "   - 왼쪽이 더 큰 경우\n",
    "   - 왼쪽이 더 작은 경우\n",
    "   - 같은 경우\n",
    "   이런 경우를 각각 포함하도록 이렇게 최소 3개 이상의 테스트를 실행해 보라\n",
    "*/\n",
    "\n",
    "ModifiablePair<Integer, String> pair1 = new ModifiablePair<>(1, \"apple\");\n",
    "ModifiablePair<Integer, String> pair2 = new ModifiablePair<>(2, \"banana\");\n",
    "ModifiablePair<Integer, String> pair3 = new ModifiablePair<>(1, \"grape\");\n",
    "ModifiablePair<Integer, String> pair4 = new ModifiablePair<>(1, \"apple\");\n",
    "\n",
    "// 비교 결과 출력\n",
    "System.out.println(pair1.compareTo(pair2)); // 왼쪽이 더 작을 경우\n",
    "System.out.println(pair2.compareTo(pair1)); // 왼쪽이 더 클 경우\n",
    "System.out.println(pair1.compareTo(pair3)); // 같은 첫 번째 값, 두 번째 값 비교\n",
    "System.out.println(pair1.compareTo(pair4)); // 같은 Pair 비교\n"
   ]
  },
  {
   "cell_type": "code",
   "execution_count": null,
   "id": "b6e834b4-990f-468c-adf5-7fc8c9c02db4",
   "metadata": {},
   "outputs": [],
   "source": []
  }
 ],
 "metadata": {
  "kernelspec": {
   "display_name": "Java (rjk 2.1.0)",
   "language": "java",
   "name": "rapaio-jupyter-kernel"
  },
  "language_info": {
   "codemirror_mode": "java",
   "file_extension": ".jshell",
   "mimetype": "text/x-java-source",
   "name": "java",
   "nbconvert_exporter": "script",
   "pygments_lexer": "java",
   "version": "22.0.2+9"
  }
 },
 "nbformat": 4,
 "nbformat_minor": 5
}
